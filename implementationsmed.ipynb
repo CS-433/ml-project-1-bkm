{
 "cells": [
  {
   "cell_type": "code",
   "execution_count": 3,
   "metadata": {
    "id": "u-TNsTuLBH4h"
   },
   "outputs": [],
   "source": [
    "# Useful starting lines\n",
    "%matplotlib inline\n",
    "import numpy as np\n",
    "from proj1_helpers import *\n",
    "import matplotlib.pyplot as plt\n",
    "%load_ext autoreload\n",
    "%autoreload 2"
   ]
  },
  {
   "cell_type": "code",
   "execution_count": 4,
   "metadata": {},
   "outputs": [
    {
     "name": "stdout",
     "output_type": "stream",
     "text": [
      "/home/mohamed/ML_course/projects/project1/ml-project-1-bkm\r\n"
     ]
    }
   ],
   "source": [
    "! pwd"
   ]
  },
  {
   "cell_type": "markdown",
   "metadata": {
    "id": "tH1OWL7nBH41"
   },
   "source": [
    "## Load the training data into feature matrix, class labels, and event ids:"
   ]
  },
  {
   "cell_type": "code",
   "execution_count": 5,
   "metadata": {
    "id": "Q0foY8eABH46"
   },
   "outputs": [],
   "source": [
    "DATA_TRAIN_PATH='./data/train.csv' \n",
    "\n",
    "\n",
    "Y1, X1, ids= load_csv_data(DATA_TRAIN_PATH)\n",
    "\n",
    "Y1=Y1.reshape((Y1.shape[0],1))"
   ]
  },
  {
   "cell_type": "markdown",
   "metadata": {
    "id": "-HY_VWouKpq2"
   },
   "source": [
    "###Train-Dev-test data split"
   ]
  },
  {
   "cell_type": "code",
   "execution_count": 6,
   "metadata": {
    "id": "9J-9kuLgLFI4"
   },
   "outputs": [],
   "source": [
    "def train_dev_test_split(X,Y,ids,train,dev,test):\n",
    "  a=np.random.rand(X.shape[0])\n",
    "  return  X[a<train], X[((a>=train) & (a<train+dev))], X[a>=train+dev], Y[a<train], Y[((a>=train) & (a<train+dev))], Y[a>=train+dev], ids[a<train], ids[((a>=train) & (a<train+dev))], ids[a>=train+dev]\n",
    "\n",
    "X_train, X_dev, X_test, Y_train, Y_dev, Y_test, ids_train, ids_dev, ids_test = train_dev_test_split(X1,Y1,ids,0.6,0.2,0.2)\n"
   ]
  },
  {
   "cell_type": "code",
   "execution_count": 7,
   "metadata": {
    "colab": {
     "base_uri": "https://localhost:8080/"
    },
    "id": "EBJuvCTf1JPB",
    "outputId": "3f8c1ca3-08e8-4c85-cb0a-fbd5d10e23bc"
   },
   "outputs": [
    {
     "data": {
      "text/plain": [
       "(149901, 1)"
      ]
     },
     "execution_count": 7,
     "metadata": {},
     "output_type": "execute_result"
    }
   ],
   "source": [
    "Y_train.shape"
   ]
  },
  {
   "cell_type": "code",
   "execution_count": 8,
   "metadata": {},
   "outputs": [
    {
     "data": {
      "text/plain": [
       "(250000, 1)"
      ]
     },
     "execution_count": 8,
     "metadata": {},
     "output_type": "execute_result"
    }
   ],
   "source": [
    "Y1.shape"
   ]
  },
  {
   "cell_type": "markdown",
   "metadata": {
    "id": "2ErsqPX0ZwO5"
   },
   "source": [
    "###Compute cost"
   ]
  },
  {
   "cell_type": "code",
   "execution_count": 9,
   "metadata": {},
   "outputs": [
    {
     "data": {
      "text/plain": [
       "array([[1.00000000e+00, 4.55754982e-01, 1.68547985e-01, 1.98764690e-01,\n",
       "        1.62660860e-01, 1.60523916e-01, 1.62521066e-01, 2.28104685e-01,\n",
       "        4.58258755e-02, 2.01464410e-01, 1.70725931e-02, 3.58962714e-01,\n",
       "        1.62623001e-01, 1.31495478e-01, 2.57909175e-03, 6.17683359e-03,\n",
       "        9.94446173e-02, 1.00600077e-02, 7.44499050e-04, 2.33723570e-01,\n",
       "        7.41075286e-03, 2.21984489e-01, 2.21077743e-01, 2.50158444e-01,\n",
       "        2.47083378e-01, 2.47078209e-01, 1.62835955e-01, 1.62613682e-01,\n",
       "        1.62609042e-01, 1.85371791e-01],\n",
       "       [4.55754982e-01, 1.00000000e+00, 1.90109488e-01, 2.49115929e-01,\n",
       "        1.76386051e-01, 1.90392025e-01, 1.75941781e-01, 4.32514093e-02,\n",
       "        1.77575270e-02, 1.46836679e-01, 3.49503614e-01, 4.19757335e-01,\n",
       "        1.76262284e-01, 1.45464145e-01, 2.10917148e-03, 1.13208392e-03,\n",
       "        3.10647518e-01, 6.77706784e-03, 3.40330242e-04, 1.83716377e-01,\n",
       "        1.59253407e-02, 1.67810640e-01, 2.10537065e-01, 2.29674008e-01,\n",
       "        2.20369870e-01, 2.20354527e-01, 1.76837101e-01, 1.76230870e-01,\n",
       "        1.76225179e-01, 2.10008918e-01],\n",
       "       [1.68547985e-01, 1.90109488e-01, 1.00000000e+00, 6.25620208e-02,\n",
       "        3.22510184e-02, 4.06198304e-02, 3.21259234e-02, 5.79711617e-01,\n",
       "        7.02133930e-04, 8.86852442e-02, 9.74898450e-02, 9.08458625e-02,\n",
       "        3.22198332e-02, 2.90011159e-01, 2.12659787e-03, 3.62409575e-03,\n",
       "        4.05482441e-01, 2.19565980e-03, 2.01753299e-03, 8.73303668e-02,\n",
       "        1.46677423e-03, 5.33004391e-02, 2.68600335e-02, 1.91508056e-02,\n",
       "        1.37493798e-02, 1.37422908e-02, 3.31883843e-02, 3.22024799e-02,\n",
       "        3.22063122e-02, 5.29024313e-02],\n",
       "       [1.98764690e-01, 2.49115929e-01, 6.25620208e-02, 1.00000000e+00,\n",
       "        5.23663964e-01, 5.34530776e-01, 5.23638525e-01, 5.39379215e-01,\n",
       "        3.10500986e-01, 8.32733067e-01, 8.91873653e-02, 5.39356019e-01,\n",
       "        5.23719517e-01, 4.07421442e-01, 1.66538737e-03, 5.24780759e-03,\n",
       "        3.60938860e-01, 8.35423036e-03, 2.92303668e-03, 6.79585496e-01,\n",
       "        8.58492456e-03, 7.82546973e-01, 6.23401443e-01, 6.21599153e-01,\n",
       "        5.64898090e-01, 5.64893830e-01, 5.31647023e-01, 5.23713649e-01,\n",
       "        5.23702853e-01, 8.08616264e-01],\n",
       "       [1.62660860e-01, 1.76386051e-01, 3.22510184e-02, 5.23663964e-01,\n",
       "        1.00000000e+00, 9.46044545e-01, 9.99981428e-01, 2.99075560e-01,\n",
       "        2.70878283e-01, 6.71996111e-01, 4.13071695e-02, 3.68491754e-01,\n",
       "        9.99998386e-01, 1.88086276e-01, 4.86572349e-03, 3.30194868e-03,\n",
       "        1.68038504e-01, 8.67757839e-03, 6.93431214e-05, 3.05561021e-01,\n",
       "        5.24491021e-03, 6.19099852e-01, 8.67521452e-01, 5.45027188e-01,\n",
       "        5.21657080e-01, 5.21664187e-01, 9.99346370e-01, 9.99994930e-01,\n",
       "        9.99995543e-01, 7.12446341e-01],\n",
       "       [1.60523916e-01, 1.90392025e-01, 4.06198304e-02, 5.34530776e-01,\n",
       "        9.46044545e-01, 1.00000000e+00, 9.44442751e-01, 3.03750865e-01,\n",
       "        2.47770895e-01, 6.80700296e-01, 2.76744813e-02, 3.69802877e-01,\n",
       "        9.45584128e-01, 2.04106292e-01, 3.58417289e-03, 3.32135484e-03,\n",
       "        1.64025631e-01, 7.60170288e-03, 5.96349011e-04, 3.18496980e-01,\n",
       "        5.16707002e-03, 6.17056751e-01, 8.14190698e-01, 5.21645058e-01,\n",
       "        4.93232893e-01, 4.93240703e-01, 9.47651806e-01, 9.45505426e-01,\n",
       "        9.45506847e-01, 7.19961764e-01],\n",
       "       [1.62521066e-01, 1.75941781e-01, 3.21259234e-02, 5.23638525e-01,\n",
       "        9.99981428e-01, 9.44442751e-01, 1.00000000e+00, 2.99082916e-01,\n",
       "        2.71435125e-01, 6.72157996e-01, 4.16138042e-02, 3.68176820e-01,\n",
       "        9.99989675e-01, 1.87935865e-01, 4.87979318e-03, 3.30876569e-03,\n",
       "        1.68270342e-01, 8.69225164e-03, 6.96418798e-05, 3.05677598e-01,\n",
       "        5.25448048e-03, 6.19388140e-01, 8.67741115e-01, 5.45021783e-01,\n",
       "        5.21653433e-01, 5.21660539e-01, 9.99346574e-01, 9.99987978e-01,\n",
       "        9.99988607e-01, 7.12619645e-01],\n",
       "       [2.28104685e-01, 4.32514093e-02, 5.79711617e-01, 5.39379215e-01,\n",
       "        2.99075560e-01, 3.03750865e-01, 2.99082916e-01, 1.00000000e+00,\n",
       "        1.48080792e-01, 4.32603440e-01, 4.70461910e-02, 2.05441498e-01,\n",
       "        2.99114676e-01, 2.02034990e-01, 3.63222718e-03, 1.12290140e-02,\n",
       "        6.99566710e-02, 6.98828711e-04, 7.75533717e-04, 4.02344914e-01,\n",
       "        1.56977134e-03, 4.07001779e-01, 3.47904428e-01, 3.35851026e-01,\n",
       "        3.04160863e-01, 3.04145415e-01, 3.03415997e-01, 2.99106895e-01,\n",
       "        2.99101137e-01, 4.48736959e-01],\n",
       "       [4.58258755e-02, 1.77575270e-02, 7.02133930e-04, 3.10500986e-01,\n",
       "        2.70878283e-01, 2.47770895e-01, 2.71435125e-01, 1.48080792e-01,\n",
       "        1.00000000e+00, 3.81159784e-01, 3.91929033e-02, 1.78447907e-01,\n",
       "        2.71057555e-01, 9.57537343e-02, 3.59589562e-03, 1.45218847e-03,\n",
       "        1.09616567e-01, 7.98658714e-03, 4.24944774e-03, 2.69738662e-01,\n",
       "        2.51483681e-03, 4.48925314e-01, 3.60408539e-01, 2.02920305e-01,\n",
       "        1.86564365e-01, 1.86589808e-01, 2.79202548e-01, 2.71099524e-01,\n",
       "        2.71090938e-01, 4.03382429e-01],\n",
       "       [2.01464410e-01, 1.46836679e-01, 8.86852442e-02, 8.32733067e-01,\n",
       "        6.71996111e-01, 6.80700296e-01, 6.72157996e-01, 4.32603440e-01,\n",
       "        3.81159784e-01, 1.00000000e+00, 1.08791092e-01, 4.20679094e-01,\n",
       "        6.72116431e-01, 4.85847266e-01, 2.03714117e-03, 3.93111283e-03,\n",
       "        4.60938009e-01, 8.78088490e-03, 1.89187658e-03, 5.20129360e-01,\n",
       "        6.71204642e-03, 9.04481460e-01, 7.58503365e-01, 6.38795579e-01,\n",
       "        5.78615522e-01, 5.78620503e-01, 6.87465097e-01, 6.72124562e-01,\n",
       "        6.72114165e-01, 9.65628389e-01],\n",
       "       [1.70725931e-02, 3.49503614e-01, 9.74898450e-02, 8.91873653e-02,\n",
       "        4.13071695e-02, 2.76744813e-02, 4.16138042e-02, 4.70461910e-02,\n",
       "        3.91929033e-02, 1.08791092e-01, 1.00000000e+00, 3.88026683e-02,\n",
       "        4.14107478e-02, 4.74632543e-01, 6.10941846e-04, 3.62980332e-06,\n",
       "        7.01142221e-01, 2.35700884e-03, 5.05298243e-03, 5.33855895e-02,\n",
       "        1.18609466e-03, 4.99035735e-02, 5.63119708e-02, 4.90898283e-02,\n",
       "        4.33231291e-02, 4.33135446e-02, 4.25507952e-02, 4.14345828e-02,\n",
       "        4.14359943e-02, 7.91164238e-02],\n",
       "       [3.58962714e-01, 4.19757335e-01, 9.08458625e-02, 5.39356019e-01,\n",
       "        3.68491754e-01, 3.69802877e-01, 3.68176820e-01, 2.05441498e-01,\n",
       "        1.78447907e-01, 4.20679094e-01, 3.88026683e-02, 1.00000000e+00,\n",
       "        3.68416799e-01, 1.40884832e-01, 5.95349136e-03, 1.55746492e-03,\n",
       "        5.40470955e-02, 1.24227180e-02, 2.78032382e-04, 1.80755937e-01,\n",
       "        9.89574009e-03, 4.23362756e-01, 4.90057064e-01, 5.48612552e-01,\n",
       "        5.34409047e-01, 5.34398769e-01, 3.69592718e-01, 3.68389703e-01,\n",
       "        3.68381007e-01, 4.52224428e-01],\n",
       "       [1.62623001e-01, 1.76262284e-01, 3.22198332e-02, 5.23719517e-01,\n",
       "        9.99998386e-01, 9.45584128e-01, 9.99989675e-01, 2.99114676e-01,\n",
       "        2.71057555e-01, 6.72116431e-01, 4.14107478e-02, 3.68416799e-01,\n",
       "        1.00000000e+00, 1.88072953e-01, 4.87005582e-03, 3.30461515e-03,\n",
       "        1.68143994e-01, 8.68338922e-03, 6.91882009e-05, 3.05645005e-01,\n",
       "        5.24871372e-03, 6.19254232e-01, 8.67599486e-01, 5.45034532e-01,\n",
       "        5.21658142e-01, 5.21665244e-01, 9.99354631e-01, 9.99996976e-01,\n",
       "        9.99997557e-01, 7.12567675e-01],\n",
       "       [1.31495478e-01, 1.45464145e-01, 2.90011159e-01, 4.07421442e-01,\n",
       "        1.88086276e-01, 2.04106292e-01, 1.87935865e-01, 2.02034990e-01,\n",
       "        9.57537343e-02, 4.85847266e-01, 4.74632543e-01, 1.40884832e-01,\n",
       "        1.88072953e-01, 1.00000000e+00, 2.66115677e-03, 8.22311688e-04,\n",
       "        1.04553355e-01, 5.34862102e-05, 3.05201859e-03, 1.76664619e-01,\n",
       "        3.29631535e-03, 4.48763409e-01, 2.05604443e-01, 1.99011083e-01,\n",
       "        1.70910046e-01, 1.70919184e-01, 1.91675513e-01, 1.88058849e-01,\n",
       "        1.88049394e-01, 3.21341065e-01],\n",
       "       [2.57909175e-03, 2.10917148e-03, 2.12659787e-03, 1.66538737e-03,\n",
       "        4.86572349e-03, 3.58417289e-03, 4.87979318e-03, 3.63222718e-03,\n",
       "        3.59589562e-03, 2.03714117e-03, 6.10941846e-04, 5.95349136e-03,\n",
       "        4.87005582e-03, 2.66115677e-03, 1.00000000e+00, 1.32235394e-03,\n",
       "        3.33015389e-03, 5.57086147e-01, 1.70506739e-03, 5.75641628e-04,\n",
       "        5.81602311e-04, 2.84136897e-03, 7.46750043e-03, 9.04346704e-03,\n",
       "        9.79189146e-03, 9.32846115e-03, 4.79679343e-03, 5.06484477e-03,\n",
       "        4.87248609e-03, 3.76298508e-03],\n",
       "       [6.17683359e-03, 1.13208392e-03, 3.62409575e-03, 5.24780759e-03,\n",
       "        3.30194868e-03, 3.32135484e-03, 3.30876569e-03, 1.12290140e-02,\n",
       "        1.45218847e-03, 3.93111283e-03, 3.62980332e-06, 1.55746492e-03,\n",
       "        3.30461515e-03, 8.22311688e-04, 1.32235394e-03, 1.00000000e+00,\n",
       "        1.73666668e-03, 3.92276097e-03, 2.07026194e-01, 6.13144528e-03,\n",
       "        3.29229820e-02, 5.21409703e-03, 3.04039484e-03, 3.69629360e-03,\n",
       "        3.36672172e-03, 2.94942153e-03, 3.38208697e-03, 3.30849151e-03,\n",
       "        3.18574063e-03, 4.84354984e-03],\n",
       "       [9.94446173e-02, 3.10647518e-01, 4.05482441e-01, 3.60938860e-01,\n",
       "        1.68038504e-01, 1.64025631e-01, 1.68270342e-01, 6.99566710e-02,\n",
       "        1.09616567e-01, 4.60938009e-01, 7.01142221e-01, 5.40470955e-02,\n",
       "        1.68143994e-01, 1.04553355e-01, 3.33015389e-03, 1.73666668e-03,\n",
       "        1.00000000e+00, 3.36789923e-04, 2.93570124e-03, 1.70544668e-01,\n",
       "        4.16731795e-04, 3.58487694e-01, 1.95738264e-01, 1.83275641e-01,\n",
       "        1.58860386e-01, 1.58856629e-01, 1.71792178e-01, 1.68157324e-01,\n",
       "        1.68156190e-01, 2.95107585e-01],\n",
       "       [1.00600077e-02, 6.77706784e-03, 2.19565980e-03, 8.35423036e-03,\n",
       "        8.67757839e-03, 7.60170288e-03, 8.69225164e-03, 6.98828711e-04,\n",
       "        7.98658714e-03, 8.78088490e-03, 2.35700884e-03, 1.24227180e-02,\n",
       "        8.68338922e-03, 5.34862102e-05, 5.57086147e-01, 3.92276097e-03,\n",
       "        3.36789923e-04, 1.00000000e+00, 8.89610029e-04, 8.52693610e-04,\n",
       "        1.76466028e-03, 1.02312351e-02, 1.60537247e-02, 2.06874292e-02,\n",
       "        2.16606752e-02, 2.11586377e-02, 8.64900141e-03, 8.88678428e-03,\n",
       "        8.68884110e-03, 1.02776709e-02],\n",
       "       [7.44499050e-04, 3.40330242e-04, 2.01753299e-03, 2.92303668e-03,\n",
       "        6.93431214e-05, 5.96349011e-04, 6.96418798e-05, 7.75533717e-04,\n",
       "        4.24944774e-03, 1.89187658e-03, 5.05298243e-03, 2.78032382e-04,\n",
       "        6.91882009e-05, 3.05201859e-03, 1.70506739e-03, 2.07026194e-01,\n",
       "        2.93570124e-03, 8.89610029e-04, 1.00000000e+00, 2.16782404e-03,\n",
       "        2.31565308e-02, 5.70590696e-03, 3.97507634e-05, 2.13694900e-04,\n",
       "        5.43513511e-04, 1.04346524e-04, 3.26107873e-06, 6.15349431e-05,\n",
       "        9.38905880e-05, 2.27033888e-03],\n",
       "       [2.33723570e-01, 1.83716377e-01, 8.73303668e-02, 6.79585496e-01,\n",
       "        3.05561021e-01, 3.18496980e-01, 3.05677598e-01, 4.02344914e-01,\n",
       "        2.69738662e-01, 5.20129360e-01, 5.33855895e-02, 1.80755937e-01,\n",
       "        3.05645005e-01, 1.76664619e-01, 5.75641628e-04, 6.13144528e-03,\n",
       "        1.70544668e-01, 8.52693610e-04, 2.16782404e-03, 1.00000000e+00,\n",
       "        8.42006588e-04, 4.86252045e-01, 3.34922045e-01, 2.99556925e-01,\n",
       "        2.52508689e-01, 2.52520393e-01, 3.12843780e-01, 3.05654940e-01,\n",
       "        3.05644862e-01, 5.35217231e-01],\n",
       "       [7.41075286e-03, 1.59253407e-02, 1.46677423e-03, 8.58492456e-03,\n",
       "        5.24491021e-03, 5.16707002e-03, 5.25448048e-03, 1.56977134e-03,\n",
       "        2.51483681e-03, 6.71204642e-03, 1.18609466e-03, 9.89574009e-03,\n",
       "        5.24871372e-03, 3.29631535e-03, 5.81602311e-04, 3.29229820e-02,\n",
       "        4.16731795e-04, 1.76466028e-03, 2.31565308e-02, 8.42006588e-04,\n",
       "        1.00000000e+00, 4.65426728e-03, 6.57460372e-03, 6.80531057e-03,\n",
       "        6.45479093e-03, 5.80293959e-03, 5.31051507e-03, 5.23787259e-03,\n",
       "        5.09862787e-03, 7.07594222e-03],\n",
       "       [2.21984489e-01, 1.67810640e-01, 5.33004391e-02, 7.82546973e-01,\n",
       "        6.19099852e-01, 6.17056751e-01, 6.19388140e-01, 4.07001779e-01,\n",
       "        4.48925314e-01, 9.04481460e-01, 4.99035735e-02, 4.23362756e-01,\n",
       "        6.19254232e-01, 4.48763409e-01, 2.84136897e-03, 5.21409703e-03,\n",
       "        3.58487694e-01, 1.02312351e-02, 5.70590696e-03, 4.86252045e-01,\n",
       "        4.65426728e-03, 1.00000000e+00, 7.05881674e-01, 5.95120577e-01,\n",
       "        5.41377146e-01, 5.41388895e-01, 6.33111415e-01, 6.19272039e-01,\n",
       "        6.19263541e-01, 8.84412857e-01],\n",
       "       [2.21077743e-01, 2.10537065e-01, 2.68600335e-02, 6.23401443e-01,\n",
       "        8.67521452e-01, 8.14190698e-01, 8.67741115e-01, 3.47904428e-01,\n",
       "        3.60408539e-01, 7.58503365e-01, 5.63119708e-02, 4.90057064e-01,\n",
       "        8.67599486e-01, 2.05604443e-01, 7.46750043e-03, 3.04039484e-03,\n",
       "        1.95738264e-01, 1.60537247e-02, 3.97507634e-05, 3.34922045e-01,\n",
       "        6.57460372e-03, 7.05881674e-01, 1.00000000e+00, 8.32493313e-01,\n",
       "        8.17360118e-01, 8.17367396e-01, 8.69620617e-01, 8.67613584e-01,\n",
       "        8.67609765e-01, 8.04325594e-01],\n",
       "       [2.50158444e-01, 2.29674008e-01, 1.91508056e-02, 6.21599153e-01,\n",
       "        5.45027188e-01, 5.21645058e-01, 5.45021783e-01, 3.35851026e-01,\n",
       "        2.02920305e-01, 6.38795579e-01, 4.90898283e-02, 5.48612552e-01,\n",
       "        5.45034532e-01, 1.99011083e-01, 9.04346704e-03, 3.69629360e-03,\n",
       "        1.83275641e-01, 2.06874292e-02, 2.13694900e-04, 2.99556925e-01,\n",
       "        6.80531057e-03, 5.95120577e-01, 8.32493313e-01, 1.00000000e+00,\n",
       "        9.96100012e-01, 9.96099796e-01, 5.46079178e-01, 5.45032744e-01,\n",
       "        5.45032539e-01, 6.67325392e-01],\n",
       "       [2.47083378e-01, 2.20369870e-01, 1.37493798e-02, 5.64898090e-01,\n",
       "        5.21657080e-01, 4.93232893e-01, 5.21653433e-01, 3.04160863e-01,\n",
       "        1.86564365e-01, 5.78615522e-01, 4.33231291e-02, 5.34409047e-01,\n",
       "        5.21658142e-01, 1.70910046e-01, 9.79189146e-03, 3.36672172e-03,\n",
       "        1.58860386e-01, 2.16606752e-02, 5.43513511e-04, 2.52508689e-01,\n",
       "        6.45479093e-03, 5.41377146e-01, 8.17360118e-01, 9.96100012e-01,\n",
       "        1.00000000e+00, 9.99991837e-01, 5.21321960e-01, 5.21655606e-01,\n",
       "        5.21656989e-01, 6.08205483e-01],\n",
       "       [2.47078209e-01, 2.20354527e-01, 1.37422908e-02, 5.64893830e-01,\n",
       "        5.21664187e-01, 4.93240703e-01, 5.21660539e-01, 3.04145415e-01,\n",
       "        1.86589808e-01, 5.78620503e-01, 4.33135446e-02, 5.34398769e-01,\n",
       "        5.21665244e-01, 1.70919184e-01, 9.32846115e-03, 2.94942153e-03,\n",
       "        1.58856629e-01, 2.11586377e-02, 1.04346524e-04, 2.52520393e-01,\n",
       "        5.80293959e-03, 5.41388895e-01, 8.17367396e-01, 9.96099796e-01,\n",
       "        9.99991837e-01, 1.00000000e+00, 5.21329175e-01, 5.21663795e-01,\n",
       "        5.21663831e-01, 6.08210119e-01],\n",
       "       [1.62835955e-01, 1.76837101e-01, 3.31883843e-02, 5.31647023e-01,\n",
       "        9.99346370e-01, 9.47651806e-01, 9.99346574e-01, 3.03415997e-01,\n",
       "        2.79202548e-01, 6.87465097e-01, 4.25507952e-02, 3.69592718e-01,\n",
       "        9.99354631e-01, 1.91675513e-01, 4.79679343e-03, 3.38208697e-03,\n",
       "        1.71792178e-01, 8.64900141e-03, 3.26107873e-06, 3.12843780e-01,\n",
       "        5.31051507e-03, 6.33111415e-01, 8.69620617e-01, 5.46079178e-01,\n",
       "        5.21321960e-01, 5.21329175e-01, 1.00000000e+00, 9.99352348e-01,\n",
       "        9.99351851e-01, 7.29041540e-01],\n",
       "       [1.62613682e-01, 1.76230870e-01, 3.22024799e-02, 5.23713649e-01,\n",
       "        9.99994930e-01, 9.45505426e-01, 9.99987978e-01, 2.99106895e-01,\n",
       "        2.71099524e-01, 6.72124562e-01, 4.14345828e-02, 3.68389703e-01,\n",
       "        9.99996976e-01, 1.88058849e-01, 5.06484477e-03, 3.30849151e-03,\n",
       "        1.68157324e-01, 8.88678428e-03, 6.15349431e-05, 3.05654940e-01,\n",
       "        5.23787259e-03, 6.19272039e-01, 8.67613584e-01, 5.45032744e-01,\n",
       "        5.21655606e-01, 5.21663795e-01, 9.99352348e-01, 1.00000000e+00,\n",
       "        9.99994774e-01, 7.12577499e-01],\n",
       "       [1.62609042e-01, 1.76225179e-01, 3.22063122e-02, 5.23702853e-01,\n",
       "        9.99995543e-01, 9.45506847e-01, 9.99988607e-01, 2.99101137e-01,\n",
       "        2.71090938e-01, 6.72114165e-01, 4.14359943e-02, 3.68381007e-01,\n",
       "        9.99997557e-01, 1.88049394e-01, 4.87248609e-03, 3.18574063e-03,\n",
       "        1.68156190e-01, 8.68884110e-03, 9.38905880e-05, 3.05644862e-01,\n",
       "        5.09862787e-03, 6.19263541e-01, 8.67609765e-01, 5.45032539e-01,\n",
       "        5.21656989e-01, 5.21663831e-01, 9.99351851e-01, 9.99994774e-01,\n",
       "        1.00000000e+00, 7.12567642e-01],\n",
       "       [1.85371791e-01, 2.10008918e-01, 5.29024313e-02, 8.08616264e-01,\n",
       "        7.12446341e-01, 7.19961764e-01, 7.12619645e-01, 4.48736959e-01,\n",
       "        4.03382429e-01, 9.65628389e-01, 7.91164238e-02, 4.52224428e-01,\n",
       "        7.12567675e-01, 3.21341065e-01, 3.76298508e-03, 4.84354984e-03,\n",
       "        2.95107585e-01, 1.02776709e-02, 2.27033888e-03, 5.35217231e-01,\n",
       "        7.07594222e-03, 8.84412857e-01, 8.04325594e-01, 6.67325392e-01,\n",
       "        6.08205483e-01, 6.08210119e-01, 7.29041540e-01, 7.12577499e-01,\n",
       "        7.12567642e-01, 1.00000000e+00]])"
      ]
     },
     "execution_count": 9,
     "metadata": {},
     "output_type": "execute_result"
    }
   ],
   "source": [
    "np.abs(np.corrcoef(X1.T))"
   ]
  },
  {
   "cell_type": "code",
   "execution_count": 10,
   "metadata": {},
   "outputs": [
    {
     "data": {
      "text/plain": [
       "(array([ 0,  4,  4,  4,  4,  4,  4,  5,  5,  5,  5,  5,  5,  5,  6,  6,  6,\n",
       "         6,  6,  6,  9,  9, 12, 12, 12, 12, 12, 12, 17, 18, 19, 21, 21, 23,\n",
       "        23, 24, 24, 25, 25, 26, 26, 26, 26, 26, 26, 27, 27, 27, 27, 27, 27,\n",
       "        28, 28, 28, 28, 28, 28, 29]),\n",
       " array([ 0,  5,  6, 12, 26, 27, 28,  4,  5,  6, 12, 26, 27, 28,  4,  5, 12,\n",
       "        26, 27, 28, 21, 29,  4,  5,  6, 26, 27, 28, 17, 18, 19,  9, 21, 24,\n",
       "        25, 23, 25, 23, 24,  4,  5,  6, 12, 27, 28,  4,  5,  6, 12, 26, 28,\n",
       "         4,  5,  6, 12, 26, 27,  9]))"
      ]
     },
     "execution_count": 10,
     "metadata": {},
     "output_type": "execute_result"
    }
   ],
   "source": [
    "test=(np.abs(np.corrcoef(X1.T))>0.9)&(np.abs(np.corrcoef(X1.T))<1)\n",
    "np.where(test)\n"
   ]
  },
  {
   "cell_type": "code",
   "execution_count": 11,
   "metadata": {
    "id": "8Z69_ZVjaYE3"
   },
   "outputs": [],
   "source": [
    "def compute_cost_for_lin_reg(X,Y,w):\n",
    "  n=Y.shape[0]\n",
    "  e=Y-np.dot(X,w)\n",
    "  return (np.dot(e.T,e)/(2*n))[0][0]\n"
   ]
  },
  {
   "cell_type": "markdown",
   "metadata": {
    "id": "I02ICfZWVXuQ"
   },
   "source": [
    "###Sigmoid function"
   ]
  },
  {
   "cell_type": "code",
   "execution_count": 12,
   "metadata": {
    "id": "Yhry8ee8VX4j"
   },
   "outputs": [],
   "source": [
    "def sigmoid(z):\n",
    "    \"\"\"\n",
    "    Compute the sigmoid of z\n",
    "\n",
    "    Arguments:\n",
    "    z -- A scalar or numpy array of any size.\n",
    "\n",
    "    Return:\n",
    "    s -- sigmoid(z)\n",
    "    \"\"\"\n",
    "\n",
    "    #(≈ 1 line of code)\n",
    "    # s = ...\n",
    "    # YOUR CODE STARTS HERE\n",
    "    s=1/(1+np.exp(-z))\n",
    "    \n",
    "    # YOUR CODE ENDS HERE\n",
    "    \n",
    "    return s"
   ]
  },
  {
   "cell_type": "markdown",
   "metadata": {
    "id": "lbMOL7YwV8MT"
   },
   "source": [
    "###Prediction"
   ]
  },
  {
   "cell_type": "code",
   "execution_count": 13,
   "metadata": {
    "id": "Jjxi2hi-XzbH"
   },
   "outputs": [],
   "source": [
    "def predict_logistic_reg(w,X):\n",
    "    '''\n",
    "    Predict whether the label is 0 or 1 using learned logistic regression parameters (w, b)\n",
    "    \n",
    "    Arguments:\n",
    "    w -- weights, a numpy array of size(n,p)\n",
    "    b -- bias, a scalar\n",
    "    X -- data of size (p,1)\n",
    "    \n",
    "    Returns:\n",
    "    Y_prediction -- a numpy array (vector) containing all predictions (0/1) for the examples in X\n",
    "    '''\n",
    "    \n",
    "    \n",
    "    Y_prediction = np.zeros((X.shape[0],1))\n",
    "    w = w.reshape(X.shape[1], 1)\n",
    "    \n",
    "    A=sigmoid(np.dot(X,w))\n",
    "    Y_prediction=(A>=0.5).astype(int)*2 - 1\n",
    "    \n",
    "    return Y_prediction"
   ]
  },
  {
   "cell_type": "markdown",
   "metadata": {
    "id": "Gd-rtyK9e3gU"
   },
   "source": [
    "# **Linear regression using normal equation**"
   ]
  },
  {
   "cell_type": "code",
   "execution_count": 14,
   "metadata": {
    "id": "0O7qV6EafQ7P"
   },
   "outputs": [],
   "source": [
    "def least_square(X,Y):\n",
    "  w=np.linalg.inv((X.T @ X)) @( (X.T @ Y))\n",
    "  cost=compute_cost_for_lin_reg(X,Y,w)\n",
    "  return w,cost\n",
    "\n"
   ]
  },
  {
   "cell_type": "code",
   "execution_count": 13,
   "metadata": {
    "id": "33goP7jm1riG"
   },
   "outputs": [],
   "source": [
    "w,cost=least_square(X_train,Y_train)"
   ]
  },
  {
   "cell_type": "code",
   "execution_count": 14,
   "metadata": {
    "colab": {
     "base_uri": "https://localhost:8080/"
    },
    "id": "vavuDxCo2Kpl",
    "outputId": "4346cd31-cd97-4801-d9f9-237d5cd0a259"
   },
   "outputs": [
    {
     "name": "stdout",
     "output_type": "stream",
     "text": [
      "0.34054992590516076\n"
     ]
    }
   ],
   "source": [
    "print(cost)"
   ]
  },
  {
   "cell_type": "markdown",
   "metadata": {
    "id": "VbfzPS5NuLdU"
   },
   "source": [
    "#Compute gradient"
   ]
  },
  {
   "cell_type": "code",
   "execution_count": 15,
   "metadata": {
    "id": "IMrGpa__BH5A"
   },
   "outputs": [],
   "source": [
    "def grad_for_lin_reg(X,Y,w):\n",
    "   n=Y.shape[0]\n",
    "  # print(X.shape)\n",
    "  # print(Y.shape)\n",
    "  # print(w.shape)\n",
    "  # print(n)\n",
    "   e=Y - X @ w\n",
    "   \n",
    "   #print(e.shape)\n",
    "   \n",
    "   return (-1/n)*np.dot(X.T,e)\n",
    "\n"
   ]
  },
  {
   "cell_type": "markdown",
   "metadata": {
    "id": "dg5C2sITwd1C"
   },
   "source": [
    "# Linear regression using gradient descent\n",
    "\n",
    "\n",
    "\n"
   ]
  },
  {
   "cell_type": "code",
   "execution_count": 16,
   "metadata": {
    "id": "-XAZiaPMFkck"
   },
   "outputs": [],
   "source": [
    "def least_squares_GD(Y, X, initial_w, max_iter, gamma):\n",
    "  ws=[]\n",
    "  costs=[]\n",
    "  ws.append(initial_w)\n",
    "  w=initial_w\n",
    "  for iter in range(max_iter):\n",
    "    cost=compute_cost_for_lin_reg(X,Y,w)\n",
    "    grad_w=grad_for_lin_reg(X,Y,w)\n",
    "    w=w-gamma*grad_w\n",
    "    ws.append(w)\n",
    "    costs.append(cost)\n",
    "\n",
    "  return w, costs"
   ]
  },
  {
   "cell_type": "code",
   "execution_count": 17,
   "metadata": {
    "id": "9n9Isdbqycax"
   },
   "outputs": [],
   "source": [
    "\n",
    "initial_w=np.zeros((X_train.shape[1],1))\n",
    "ws_lin_reg, costs_lin_reg=least_squares_GD(Y_train, X_train, initial_w, 100, 0.00000001)\n"
   ]
  },
  {
   "cell_type": "code",
   "execution_count": 18,
   "metadata": {
    "colab": {
     "base_uri": "https://localhost:8080/",
     "height": 302
    },
    "id": "DFkZG0jIy5Ds",
    "outputId": "88843309-b1c7-45cd-a982-7d42e82e8440"
   },
   "outputs": [
    {
     "data": {
      "image/png": "[encoded data removed]",
      "text/plain": [
       "<Figure size 432x288 with 1 Axes>"
      ]
     },
     "metadata": {
      "needs_background": "light"
     },
     "output_type": "display_data"
    }
   ],
   "source": [
    "plt.plot(costs_lin_reg)\n",
    "plt.show()"
   ]
  },
  {
   "cell_type": "markdown",
   "metadata": {
    "id": "lNYwAl93Hh5M"
   },
   "source": [
    "# Linear regression using gradient descent\n"
   ]
  },
  {
   "cell_type": "code",
   "execution_count": 15,
   "metadata": {},
   "outputs": [],
   "source": [
    "def batch_iter(y, tx, batch_size, num_batches=1, shuffle=True):\n",
    "    \"\"\"\n",
    "    Generate a minibatch iterator for a dataset.\n",
    "    Takes as input two iterables (here the output desired values 'y' and the input data 'tx')\n",
    "    Outputs an iterator which gives mini-batches of `batch_size` matching elements from `y` and `tx`.\n",
    "    Data can be randomly shuffled to avoid ordering in the original data messing with the randomness of the minibatches.\n",
    "    Example of use :\n",
    "    for minibatch_y, minibatch_tx in batch_iter(y, tx, 32):\n",
    "        <DO-SOMETHING>\n",
    "    \"\"\"\n",
    "    data_size = len(y)\n",
    "\n",
    "    if shuffle:\n",
    "        shuffle_indices = np.random.permutation(np.arange(data_size))\n",
    "        shuffled_y = y[shuffle_indices]\n",
    "        shuffled_tx = tx[shuffle_indices]\n",
    "    else:\n",
    "        shuffled_y = y\n",
    "        shuffled_tx = tx\n",
    "    for batch_num in range(num_batches):\n",
    "        start_index = batch_num * batch_size\n",
    "        end_index = min((batch_num + 1) * batch_size, data_size)\n",
    "        if start_index != end_index:\n",
    "            yield shuffled_y[start_index:end_index], shuffled_tx[start_index:end_index]\n"
   ]
  },
  {
   "cell_type": "code",
   "execution_count": 16,
   "metadata": {
    "id": "taOBaRO686QY"
   },
   "outputs": [],
   "source": [
    "def least_squares_SGD(Y, X, initial_w, max_iter, gamma):\n",
    "  ws=[]\n",
    "  costs=[]\n",
    "  ws.append(initial_w)\n",
    "  w=initial_w\n",
    "  for iter in range(max_iter):\n",
    "    cost=compute_cost_for_lin_reg(X,Y,w)\n",
    "    for sub_Y, sub_X in batch_iter(Y, X, 1):\n",
    "        grad_w=grad_for_lin_reg(sub_X,sub_Y,w)\n",
    "        w=w-gamma*grad_w\n",
    "        ws.append(w)\n",
    "        costs.append(cost)\n",
    "\n",
    "  return ws, costs"
   ]
  },
  {
   "cell_type": "code",
   "execution_count": 17,
   "metadata": {
    "colab": {
     "base_uri": "https://localhost:8080/",
     "height": 302
    },
    "id": "wcoEfXDxAtgR",
    "outputId": "d9334922-c00d-46ae-f351-2d4e95b86fdb"
   },
   "outputs": [
    {
     "ename": "NameError",
     "evalue": "name 'grad_for_lin_reg' is not defined",
     "output_type": "error",
     "traceback": [
      "\u001b[0;31m---------------------------------------------------------------------------\u001b[0m",
      "\u001b[0;31mNameError\u001b[0m                                 Traceback (most recent call last)",
      "\u001b[0;32m<ipython-input-17-93b2601e8a5c>\u001b[0m in \u001b[0;36m<module>\u001b[0;34m\u001b[0m\n\u001b[1;32m      1\u001b[0m \u001b[0minitial_w\u001b[0m\u001b[0;34m=\u001b[0m\u001b[0mnp\u001b[0m\u001b[0;34m.\u001b[0m\u001b[0mzeros\u001b[0m\u001b[0;34m(\u001b[0m\u001b[0;34m(\u001b[0m\u001b[0mX_train\u001b[0m\u001b[0;34m.\u001b[0m\u001b[0mshape\u001b[0m\u001b[0;34m[\u001b[0m\u001b[0;36m1\u001b[0m\u001b[0;34m]\u001b[0m\u001b[0;34m,\u001b[0m\u001b[0;36m1\u001b[0m\u001b[0;34m)\u001b[0m\u001b[0;34m)\u001b[0m\u001b[0;34m\u001b[0m\u001b[0;34m\u001b[0m\u001b[0m\n\u001b[0;32m----> 2\u001b[0;31m \u001b[0mws_lin_reg_sgd\u001b[0m\u001b[0;34m,\u001b[0m \u001b[0mcosts_lin_reg_sgd\u001b[0m\u001b[0;34m=\u001b[0m\u001b[0mleast_squares_SGD\u001b[0m\u001b[0;34m(\u001b[0m\u001b[0mY_train\u001b[0m\u001b[0;34m,\u001b[0m \u001b[0mX_train\u001b[0m\u001b[0;34m,\u001b[0m \u001b[0minitial_w\u001b[0m\u001b[0;34m,\u001b[0m \u001b[0;36m100\u001b[0m\u001b[0;34m,\u001b[0m \u001b[0;36m0.000000001\u001b[0m\u001b[0;34m)\u001b[0m\u001b[0;34m\u001b[0m\u001b[0;34m\u001b[0m\u001b[0m\n\u001b[0m\u001b[1;32m      3\u001b[0m \u001b[0mplt\u001b[0m\u001b[0;34m.\u001b[0m\u001b[0mplot\u001b[0m\u001b[0;34m(\u001b[0m\u001b[0mcosts_lin_reg_sgd\u001b[0m\u001b[0;34m)\u001b[0m\u001b[0;34m\u001b[0m\u001b[0;34m\u001b[0m\u001b[0m\n\u001b[1;32m      4\u001b[0m \u001b[0mplt\u001b[0m\u001b[0;34m.\u001b[0m\u001b[0mshow\u001b[0m\u001b[0;34m(\u001b[0m\u001b[0;34m)\u001b[0m\u001b[0;34m\u001b[0m\u001b[0;34m\u001b[0m\u001b[0m\n",
      "\u001b[0;32m<ipython-input-16-6b5ebacb0e7b>\u001b[0m in \u001b[0;36mleast_squares_SGD\u001b[0;34m(Y, X, initial_w, max_iter, gamma)\u001b[0m\n\u001b[1;32m      7\u001b[0m     \u001b[0mcost\u001b[0m\u001b[0;34m=\u001b[0m\u001b[0mcompute_cost_for_lin_reg\u001b[0m\u001b[0;34m(\u001b[0m\u001b[0mX\u001b[0m\u001b[0;34m,\u001b[0m\u001b[0mY\u001b[0m\u001b[0;34m,\u001b[0m\u001b[0mw\u001b[0m\u001b[0;34m)\u001b[0m\u001b[0;34m\u001b[0m\u001b[0;34m\u001b[0m\u001b[0m\n\u001b[1;32m      8\u001b[0m     \u001b[0;32mfor\u001b[0m \u001b[0msub_Y\u001b[0m\u001b[0;34m,\u001b[0m \u001b[0msub_X\u001b[0m \u001b[0;32min\u001b[0m \u001b[0mbatch_iter\u001b[0m\u001b[0;34m(\u001b[0m\u001b[0mY\u001b[0m\u001b[0;34m,\u001b[0m \u001b[0mX\u001b[0m\u001b[0;34m,\u001b[0m \u001b[0;36m1\u001b[0m\u001b[0;34m)\u001b[0m\u001b[0;34m:\u001b[0m\u001b[0;34m\u001b[0m\u001b[0;34m\u001b[0m\u001b[0m\n\u001b[0;32m----> 9\u001b[0;31m         \u001b[0mgrad_w\u001b[0m\u001b[0;34m=\u001b[0m\u001b[0mgrad_for_lin_reg\u001b[0m\u001b[0;34m(\u001b[0m\u001b[0msub_X\u001b[0m\u001b[0;34m,\u001b[0m\u001b[0msub_Y\u001b[0m\u001b[0;34m,\u001b[0m\u001b[0mw\u001b[0m\u001b[0;34m)\u001b[0m\u001b[0;34m\u001b[0m\u001b[0;34m\u001b[0m\u001b[0m\n\u001b[0m\u001b[1;32m     10\u001b[0m         \u001b[0mw\u001b[0m\u001b[0;34m=\u001b[0m\u001b[0mw\u001b[0m\u001b[0;34m-\u001b[0m\u001b[0mgamma\u001b[0m\u001b[0;34m*\u001b[0m\u001b[0mgrad_w\u001b[0m\u001b[0;34m\u001b[0m\u001b[0;34m\u001b[0m\u001b[0m\n\u001b[1;32m     11\u001b[0m         \u001b[0mws\u001b[0m\u001b[0;34m.\u001b[0m\u001b[0mappend\u001b[0m\u001b[0;34m(\u001b[0m\u001b[0mw\u001b[0m\u001b[0;34m)\u001b[0m\u001b[0;34m\u001b[0m\u001b[0;34m\u001b[0m\u001b[0m\n",
      "\u001b[0;31mNameError\u001b[0m: name 'grad_for_lin_reg' is not defined"
     ]
    }
   ],
   "source": [
    "initial_w=np.zeros((X_train.shape[1],1))\n",
    "ws_lin_reg_sgd, costs_lin_reg_sgd=least_squares_SGD(Y_train, X_train, initial_w, 100, 0.000000001)\n",
    "plt.plot(costs_lin_reg_sgd)\n",
    "plt.show()"
   ]
  },
  {
   "cell_type": "code",
   "execution_count": 18,
   "metadata": {
    "id": "GlFZ13_uJtua"
   },
   "outputs": [],
   "source": [
    "def ridge_regression(X ,Y ,lambda_ ):\n",
    "  w=np.linalg.inv((X.T @ X)+lambda_*np.eye(X.shape[1])) @( (X.T @ Y))\n",
    "  cost=compute_cost_for_lin_reg(X,Y,w)\n",
    "  return w,cost"
   ]
  },
  {
   "cell_type": "code",
   "execution_count": 19,
   "metadata": {
    "id": "AeDMF-v5y-g3"
   },
   "outputs": [],
   "source": [
    "w_ridge_reg, cost_ridge_reg=ridge_regression(X_train, Y_train, 10)"
   ]
  },
  {
   "cell_type": "code",
   "execution_count": 20,
   "metadata": {
    "colab": {
     "base_uri": "https://localhost:8080/"
    },
    "id": "WAOOJoIfzOkz",
    "outputId": "8737f2da-0a74-4382-af22-9fde335d55f6"
   },
   "outputs": [
    {
     "name": "stdout",
     "output_type": "stream",
     "text": [
      "0.3392299944384453\n"
     ]
    }
   ],
   "source": [
    "print(cost_ridge_reg)"
   ]
  },
  {
   "cell_type": "markdown",
   "metadata": {
    "id": "Ly1cFqLG3okP"
   },
   "source": [
    "#Logistic regression"
   ]
  },
  {
   "cell_type": "code",
   "execution_count": 21,
   "metadata": {
    "id": "GX2HYeS77AC5"
   },
   "outputs": [],
   "source": [
    "def compute_cost_for_log_reg(X,Y,w):\n",
    "  n=X.shape[0]\n",
    "  y_chap=sigmoid(np.dot(X, w))\n",
    "\n",
    "  return np.sum(Y*np.log(y_chap) - (1-Y)*np.log(1-y_chap))/n"
   ]
  },
  {
   "cell_type": "code",
   "execution_count": 22,
   "metadata": {
    "id": "3VLRMKFk7AIm"
   },
   "outputs": [],
   "source": [
    "def grad_for_log_reg(X,Y,w):\n",
    "  n=X.shape[0]\n",
    "  e=sigmoid(np.dot(X, w))-Y\n",
    "   \n",
    "   #print(e.shape)\n",
    "   \n",
    "  return (1/n)*np.dot(X.T,e)"
   ]
  },
  {
   "cell_type": "code",
   "execution_count": 23,
   "metadata": {
    "id": "fb_UQslDzTZx"
   },
   "outputs": [],
   "source": [
    "def logistic_regression(Y, X, initial_w, max_iter, gamma):\n",
    "  ws=[]\n",
    "  costs=[]\n",
    "  ws.append(initial_w)\n",
    "  w=initial_w\n",
    "  for iter in range(max_iter):\n",
    "    cost=compute_cost_for_log_reg(X,Y,w)\n",
    "    grad_w=grad_for_log_reg(X,Y,w)\n",
    "    w=w-gamma*grad_w\n",
    "    ws.append(w)\n",
    "    costs.append(cost)\n",
    "\n",
    "  return ws, costs"
   ]
  },
  {
   "cell_type": "code",
   "execution_count": 24,
   "metadata": {
    "colab": {
     "base_uri": "https://localhost:8080/",
     "height": 823
    },
    "id": "1fpn6ZQGCBDz",
    "outputId": "3fd081be-26b6-4067-a028-7f87d93b97f6"
   },
   "outputs": [
    {
     "data": {
      "image/png": "[encoded data removed]",
      "text/plain": [
       "<Figure size 432x288 with 1 Axes>"
      ]
     },
     "metadata": {
      "needs_background": "light"
     },
     "output_type": "display_data"
    },
    {
     "name": "stdout",
     "output_type": "stream",
     "text": [
      "[[ 1.27299578e-05]\n",
      " [-4.97354293e-06]\n",
      " [-6.34438260e-06]\n",
      " [-3.42885802e-06]\n",
      " [ 5.98134840e-05]\n",
      " [ 5.69153939e-05]\n",
      " [ 5.98235160e-05]\n",
      " [-1.82350732e-07]\n",
      " [-1.51438272e-06]\n",
      " [-1.08302949e-05]\n",
      " [-1.27196842e-07]\n",
      " [ 3.94372724e-08]\n",
      " [ 5.98348261e-05]\n",
      " [-2.51468650e-06]\n",
      " [ 7.25826031e-10]\n",
      " [ 2.95440216e-10]\n",
      " [-3.69679168e-06]\n",
      " [ 1.64851613e-09]\n",
      " [-2.86744195e-09]\n",
      " [-3.19544326e-06]\n",
      " [ 1.61282789e-09]\n",
      " [-1.48726917e-05]\n",
      " [-6.60202935e-08]\n",
      " [ 3.39840734e-05]\n",
      " [ 3.70634346e-05]\n",
      " [ 3.70639293e-05]\n",
      " [ 5.88038286e-05]\n",
      " [ 5.98394951e-05]\n",
      " [ 5.98390428e-05]\n",
      " [-4.61881677e-06]]\n"
     ]
    }
   ],
   "source": [
    "initial_w=np.zeros((X_train.shape[1],1))\n",
    "ws_log_reg, costs_log_reg=logistic_regression(Y_train, X_train, initial_w, 100, 0.000000001)\n",
    "plt.plot(costs_log_reg)\n",
    "plt.show()\n",
    "print(ws_log_reg[-1])"
   ]
  },
  {
   "cell_type": "code",
   "execution_count": 37,
   "metadata": {
    "id": "yt7nfMmEIFvH"
   },
   "outputs": [],
   "source": [
    "def compute_cost_for_log_reg_regularized(X,Y,w,lambda_):\n",
    "   n=X.shape[0]\n",
    "   y_chap=sigmoid(np.dot(X, w))\n",
    "\n",
    "   return ((np.sum(Y*np.log(y_chap) - (1-Y)*np.log(1-y_chap))+(lambda_/2)*np.dot(w.T,w))/n)[0][0]"
   ]
  },
  {
   "cell_type": "code",
   "execution_count": 38,
   "metadata": {
    "id": "y6D__baCOzNt"
   },
   "outputs": [],
   "source": [
    "def grad_for_log_reg_regularized(X,Y,w,lambda_):\n",
    "  n=X.shape[0]\n",
    "  e=sigmoid(np.dot(X, w))-Y\n",
    "   \n",
    "   #print(e.shape)\n",
    "   \n",
    "  return (1/n)*(np.dot(X.T,e) +lambda_*w)"
   ]
  },
  {
   "cell_type": "code",
   "execution_count": 39,
   "metadata": {
    "id": "oTWS0oY2P2ON"
   },
   "outputs": [],
   "source": [
    "def reg_logistic_regression(Y, X, initial_w, max_iter, gamma,lambda_):\n",
    "  ws=[]\n",
    "  costs=[]\n",
    "  ws.append(initial_w)\n",
    "  w=initial_w\n",
    "  for iter in range(max_iter):\n",
    "    cost=compute_cost_for_log_reg_regularized(X,Y,w,lambda_)\n",
    "    grad_w=grad_for_log_reg_regularized(X,Y,w,lambda_)\n",
    "    w=w-gamma*grad_w\n",
    "    ws.append(w)\n",
    "    costs.append(cost)\n",
    "\n",
    "  return ws, costs"
   ]
  },
  {
   "cell_type": "code",
   "execution_count": 40,
   "metadata": {
    "colab": {
     "base_uri": "https://localhost:8080/",
     "height": 302
    },
    "id": "oVBh56dZQZVy",
    "outputId": "6a3a0ecd-5a03-4ed8-e6ec-e65bea212ef2"
   },
   "outputs": [
    {
     "data": {
      "image/png": "[encoded data removed]",
      "text/plain": [
       "<Figure size 432x288 with 1 Axes>"
      ]
     },
     "metadata": {
      "needs_background": "light"
     },
     "output_type": "display_data"
    }
   ],
   "source": [
    "initial_w=np.zeros((X_train.shape[1],1))\n",
    "ws_log_reg_regularised, costs_log_reg_regularised=reg_logistic_regression(Y_train, X_train, initial_w, 100, 0.000000001,10)\n",
    "plt.plot(costs_log_reg_regularised)\n",
    "plt.show()\n"
   ]
  },
  {
   "cell_type": "code",
   "execution_count": 41,
   "metadata": {
    "colab": {
     "base_uri": "https://localhost:8080/"
    },
    "id": "jpQk2haaQeoK",
    "outputId": "4a2eda7e-3950-46f3-91c1-2c16eefaa2a3"
   },
   "outputs": [
    {
     "name": "stdout",
     "output_type": "stream",
     "text": [
      "[[ 1.26728255e-05]\n",
      " [-4.94939389e-06]\n",
      " [-6.32117384e-06]\n",
      " [-3.39907120e-06]\n",
      " [ 5.92958044e-05]\n",
      " [ 5.63119095e-05]\n",
      " [ 5.93072730e-05]\n",
      " [-1.81684505e-07]\n",
      " [-1.50477630e-06]\n",
      " [-1.07701522e-05]\n",
      " [-1.26580646e-07]\n",
      " [ 3.92117071e-08]\n",
      " [ 5.93176864e-05]\n",
      " [-2.49386204e-06]\n",
      " [ 9.36802716e-10]\n",
      " [-2.48790950e-10]\n",
      " [-3.67666850e-06]\n",
      " [ 2.09156625e-09]\n",
      " [-3.17549762e-09]\n",
      " [-3.17266153e-06]\n",
      " [ 1.71106349e-09]\n",
      " [-1.47926921e-05]\n",
      " [-6.59710104e-08]\n",
      " [ 3.38140816e-05]\n",
      " [ 3.68627537e-05]\n",
      " [ 3.68629222e-05]\n",
      " [ 5.82835802e-05]\n",
      " [ 5.93226192e-05]\n",
      " [ 5.93223432e-05]\n",
      " [-4.59962153e-06]]\n"
     ]
    }
   ],
   "source": [
    "print(ws_log_reg_regularised[-1])"
   ]
  },
  {
   "cell_type": "code",
   "execution_count": 42,
   "metadata": {
    "colab": {
     "base_uri": "https://localhost:8080/"
    },
    "id": "_DySWd33fuJU",
    "outputId": "1ef197a0-aee4-48cc-9481-c582b35c3f40"
   },
   "outputs": [
    {
     "name": "stdout",
     "output_type": "stream",
     "text": [
      "0.7229531094113735\n"
     ]
    }
   ],
   "source": [
    "pred=predict_logistic_reg(ws_log_reg_regularised[-1],X_train)\n",
    "print(np.sum(np.abs(pred-Y_train))/Y_train.shape[0])"
   ]
  },
  {
   "cell_type": "code",
   "execution_count": 52,
   "metadata": {
    "id": "PI-pKmeDgym3"
   },
   "outputs": [],
   "source": [
    "DATA_TEST_PATH='../ML_course/projects/project1/data/test.csv' \n",
    "\n",
    "\n",
    "Y_test, X_test, ids_test= load_csv_data(DATA_TEST_PATH)\n"
   ]
  },
  {
   "cell_type": "code",
   "execution_count": 53,
   "metadata": {},
   "outputs": [],
   "source": []
  },
  {
   "cell_type": "code",
   "execution_count": 54,
   "metadata": {},
   "outputs": [],
   "source": []
  },
  {
   "cell_type": "code",
   "execution_count": 55,
   "metadata": {},
   "outputs": [
    {
     "data": {
      "text/plain": [
       "(568238, 1)"
      ]
     },
     "execution_count": 55,
     "metadata": {},
     "output_type": "execute_result"
    }
   ],
   "source": [
    "Y_test.shape"
   ]
  },
  {
   "cell_type": "code",
   "execution_count": 56,
   "metadata": {},
   "outputs": [
    {
     "data": {
      "text/plain": [
       "(568238,)"
      ]
     },
     "execution_count": 56,
     "metadata": {},
     "output_type": "execute_result"
    }
   ],
   "source": [
    "ids_test.shape"
   ]
  },
  {
   "cell_type": "code",
   "execution_count": 58,
   "metadata": {},
   "outputs": [],
   "source": [
    "Y_test=predict_logistic_reg(ws_log_reg_regularised[-1],X_test)"
   ]
  },
  {
   "cell_type": "code",
   "execution_count": 59,
   "metadata": {},
   "outputs": [
    {
     "data": {
      "text/plain": [
       "(568238, 1)"
      ]
     },
     "execution_count": 59,
     "metadata": {},
     "output_type": "execute_result"
    }
   ],
   "source": [
    "Y_test.shape"
   ]
  },
  {
   "cell_type": "code",
   "execution_count": 63,
   "metadata": {},
   "outputs": [],
   "source": [
    "ids_test=ids_test.reshape((ids_test.shape[0],1))"
   ]
  },
  {
   "cell_type": "code",
   "execution_count": 64,
   "metadata": {},
   "outputs": [
    {
     "data": {
      "text/plain": [
       "(568238, 1)"
      ]
     },
     "execution_count": 64,
     "metadata": {},
     "output_type": "execute_result"
    }
   ],
   "source": [
    "ids_test.shape"
   ]
  },
  {
   "cell_type": "code",
   "execution_count": 65,
   "metadata": {},
   "outputs": [],
   "source": [
    "create_csv_submission(ids_test, Y_test, 'bkm')"
   ]
  },
  {
   "cell_type": "code",
   "execution_count": null,
   "metadata": {},
   "outputs": [],
   "source": []
  }
 ],
 "metadata": {
  "anaconda-cloud": {},
  "colab": {
   "collapsed_sections": [],
   "name": "project1.ipynb",
   "provenance": []
  },
  "kernelspec": {
   "display_name": "Python 3",
   "language": "python",
   "name": "python3"
  },
  "language_info": {
   "codemirror_mode": {
    "name": "ipython",
    "version": 3
   },
   "file_extension": ".py",
   "mimetype": "text/x-python",
   "name": "python",
   "nbconvert_exporter": "python",
   "pygments_lexer": "ipython3",
   "version": "3.8.8"
  }
 },
 "nbformat": 4,
 "nbformat_minor": 1
}
