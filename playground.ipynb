{
 "cells": [
  {
   "cell_type": "code",
   "execution_count": 22,
   "source": [
    "from implementations import *\n",
    "from data_cleanup import *\n",
    "from functools import partial\n",
    "np.warnings.filterwarnings('ignore')\n",
    "%load_ext autoreload\n",
    "%autoreload 2"
   ],
   "outputs": [
    {
     "output_type": "stream",
     "name": "stdout",
     "text": [
      "The autoreload extension is already loaded. To reload it, use:\n",
      "  %reload_ext autoreload\n"
     ]
    }
   ],
   "metadata": {}
  },
  {
   "cell_type": "code",
   "execution_count": 3,
   "source": [
    "DATA_TRAIN_PATH = 'data/train.csv' \n",
    "y, tX, ids = load_csv_data(DATA_TRAIN_PATH)"
   ],
   "outputs": [],
   "metadata": {}
  },
  {
   "cell_type": "markdown",
   "source": [
    "Test data cleaning functions"
   ],
   "metadata": {}
  },
  {
   "cell_type": "code",
   "execution_count": 4,
   "source": [
    "xs, ys = preprocess_train(tX, y)"
   ],
   "outputs": [
    {
     "output_type": "stream",
     "name": "stdout",
     "text": [
      "x_0 shape: (99913, 30), y_0 shape: (99913,)\n",
      "x_1 shape: (77544, 30), y_1 shape: (77544,)\n",
      "x_2 shape: (50379, 30), y_2 shape: (50379,)\n",
      "x_3 shape: (22164, 30), y_3 shape: (22164,)\n"
     ]
    }
   ],
   "metadata": {}
  },
  {
   "cell_type": "code",
   "execution_count": 78,
   "source": [
    "initial_w = np.zeros(30)\n",
    "gamma = 0.03\n",
    "max_iters = 2\n",
    "batch_size = 2000\n",
    "ratio = 0.9"
   ],
   "outputs": [],
   "metadata": {}
  },
  {
   "cell_type": "markdown",
   "source": [
    "Test logistic regression using Newton method"
   ],
   "metadata": {}
  },
  {
   "cell_type": "code",
   "execution_count": 79,
   "source": [
    "weights = []\n",
    "loss = []\n",
    "for i in range(4):\n",
    "    print(f'***{i}***')\n",
    "    w , l = logistic_regression_newton_method(ys[i], xs[i], initial_w, max_iters, batch_size, ratio, gamma)\n",
    "    print(f'remove misclassified points')\n",
    "    dist = np.dot(xs[i], w)\n",
    "    y_dist = dist*[-1 if x==0 else 1 for x in list(ys[i])]\n",
    "    val = np.percentile(y_dist, 5)\n",
    "    x_new = xs[i][(~(y_dist < val))]\n",
    "    y_new = ys[i][(~(y_dist < val))]\n",
    "    print(f'new model from {xs[i].shape} to {x_new.shape} data')\n",
    "    w , l = logistic_regression_newton_method(y_new, x_new, w, max_iters, batch_size, ratio, gamma)\n",
    "    print(f'remove misclassified points')\n",
    "    dist = np.dot(x_new, w)\n",
    "    y_dist = dist*[-1 if x==0 else 1 for x in list(y_new)]\n",
    "    val = np.percentile(y_dist, 5)\n",
    "    x_new2 = x_new[(~(y_dist < val))]\n",
    "    y_new2 = y_new[(~(y_dist < val))]\n",
    "    print(f'new model from {x_new.shape} to {x_new2.shape} data')\n",
    "    w , l = logistic_regression_newton_method(y_new2, x_new2, w, max_iters, batch_size, ratio, gamma)\n",
    "    weights.append(w)\n",
    "    loss.append(l)"
   ],
   "outputs": [
    {
     "output_type": "stream",
     "name": "stdout",
     "text": [
      "***0***\n",
      "epoch: 0, train_loss: 28848.744422494485, test_loss: 2413.139727142242, test accuracy: 0.8203562850280224\n",
      "epoch: 1, train_loss: 18127.884861085295, test_loss: 1884.2057331557767, test accuracy: 0.8221577261809447\n",
      "remove misclassified points\n",
      "new model from (99913, 30) to (94917, 30) data\n",
      "epoch: 0, train_loss: 12965.583576113604, test_loss: 1316.7764236521307, test accuracy: 0.8656763590391909\n",
      "epoch: 1, train_loss: 11163.120400298743, test_loss: 1217.8886576970735, test accuracy: 0.8660977665402444\n",
      "remove misclassified points\n",
      "new model from (94917, 30) to (90171, 30) data\n",
      "epoch: 0, train_loss: 7451.636464561068, test_loss: 794.7547939418033, test accuracy: 0.9062985140829453\n",
      "epoch: 1, train_loss: 6737.506365530297, test_loss: 746.0743989642757, test accuracy: 0.9066311820802839\n",
      "***1***\n",
      "epoch: 0, train_loss: 23837.575684720086, test_loss: 2370.2830802574936, test accuracy: 0.716441005802708\n",
      "epoch: 1, train_loss: 19027.428658622615, test_loss: 2086.552991978488, test accuracy: 0.7168278529980658\n",
      "remove misclassified points\n",
      "new model from (77544, 30) to (73666, 30) data\n",
      "epoch: 0, train_loss: 15555.797909351362, test_loss: 1657.2372175406742, test accuracy: 0.7551242025247726\n",
      "epoch: 1, train_loss: 14347.50083108323, test_loss: 1592.4666310898724, test accuracy: 0.7543097597393783\n",
      "remove misclassified points\n",
      "new model from (73666, 30) to (69982, 30) data\n",
      "epoch: 0, train_loss: 11826.85715872098, test_loss: 1326.830029948811, test accuracy: 0.7963994856408059\n",
      "epoch: 1, train_loss: 11315.81815102937, test_loss: 1293.8408941457396, test accuracy: 0.7956850978711245\n",
      "***2***\n",
      "epoch: 0, train_loss: 13206.342901594655, test_loss: 1491.6509088425107, test accuracy: 0.7298531163159985\n",
      "epoch: 1, train_loss: 11961.22842611932, test_loss: 1404.9053881096645, test accuracy: 0.7294561333862644\n",
      "remove misclassified points\n",
      "new model from (50379, 30) to (47860, 30) data\n",
      "epoch: 0, train_loss: 9561.629145015891, test_loss: 1106.2483685299749, test accuracy: 0.7776849143334726\n",
      "epoch: 1, train_loss: 8990.376878329165, test_loss: 1073.6168232510806, test accuracy: 0.7791475135812788\n",
      "remove misclassified points\n",
      "new model from (47860, 30) to (45467, 30) data\n",
      "epoch: 0, train_loss: 6953.875033201983, test_loss: 803.7055674008058, test accuracy: 0.8203210908291181\n",
      "epoch: 1, train_loss: 6638.6250262323665, test_loss: 781.0887883314558, test accuracy: 0.8223004178579283\n",
      "***3***\n",
      "epoch: 0, train_loss: 7899.8312544051305, test_loss: 906.8361517532528, test accuracy: 0.7235002255299955\n",
      "epoch: 1, train_loss: 6778.015465135239, test_loss: 793.1618017491178, test accuracy: 0.7257555254848895\n",
      "remove misclassified points\n",
      "new model from (22164, 30) to (21055, 30) data\n",
      "epoch: 0, train_loss: 5834.311898549819, test_loss: 669.1495004135763, test accuracy: 0.7630579297245964\n",
      "epoch: 1, train_loss: 5111.375047215074, test_loss: 595.2005163886879, test accuracy: 0.7654320987654322\n",
      "remove misclassified points\n",
      "new model from (21055, 30) to (20002, 30) data\n",
      "epoch: 0, train_loss: 4405.683381764778, test_loss: 474.56876768902555, test accuracy: 0.792103948025987\n",
      "epoch: 1, train_loss: 3759.606115279773, test_loss: 426.6113147184794, test accuracy: 0.791104447776112\n"
     ]
    }
   ],
   "metadata": {}
  },
  {
   "cell_type": "code",
   "execution_count": 85,
   "source": [
    "OUTPUT_PATH = 'data/test.csv' \n",
    "_, tX_test, ids_test = load_csv_data(OUTPUT_PATH)"
   ],
   "outputs": [],
   "metadata": {}
  },
  {
   "cell_type": "code",
   "execution_count": 106,
   "source": [
    "tx_test, idx = preprocess_test(tX_test, ids_test)"
   ],
   "outputs": [
    {
     "output_type": "stream",
     "name": "stdout",
     "text": [
      "x_0 shape: (227458, 30)\n",
      "x_1 shape: (175338, 30)\n",
      "x_2 shape: (114648, 30)\n",
      "x_3 shape: (50794, 30)\n"
     ]
    }
   ],
   "metadata": {}
  },
  {
   "cell_type": "code",
   "execution_count": 132,
   "source": [
    "labels = []\n",
    "for i in range(4):\n",
    "    labels.append(predict_logistic_labels(weights[i], tx_test[i]))\n",
    "final = np.array(list(labels[0])+list(labels[1])+list(labels[2])+list(labels[3]))\n",
    "final = final * 2 - 1\n",
    "final_idx = np.array(list(idx[0])+list(idx[1])+list(idx[2])+list(idx[3]))\n",
    "create_csv_submission(final_idx, final, 'bkm4.csv')"
   ],
   "outputs": [],
   "metadata": {}
  }
 ],
 "metadata": {
  "interpreter": {
   "hash": "916dbcbb3f70747c44a77c7bcd40155683ae19c65e1c03b4aa3499c5328201f1"
  },
  "kernelspec": {
   "name": "python3",
   "display_name": "Python 3.8.10 64-bit"
  },
  "language_info": {
   "codemirror_mode": {
    "name": "ipython",
    "version": 3
   },
   "file_extension": ".py",
   "mimetype": "text/x-python",
   "name": "python",
   "nbconvert_exporter": "python",
   "pygments_lexer": "ipython3",
   "version": "3.8.10"
  }
 },
 "nbformat": 4,
 "nbformat_minor": 2
}