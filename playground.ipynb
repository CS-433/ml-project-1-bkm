{
 "cells": [
  {
   "cell_type": "code",
   "execution_count": 139,
   "source": [
    "from implementations import *\n",
    "from proj1_helpers import *\n",
    "from data_cleanup import *\n",
    "np.warnings.filterwarnings('ignore')\n",
    "%load_ext autoreload\n",
    "%autoreload 2"
   ],
   "outputs": [
    {
     "output_type": "stream",
     "name": "stdout",
     "text": [
      "The autoreload extension is already loaded. To reload it, use:\n",
      "  %reload_ext autoreload\n"
     ]
    }
   ],
   "metadata": {}
  },
  {
   "cell_type": "code",
   "execution_count": 140,
   "source": [
    "DATA_TRAIN_PATH = 'data/train.csv' \n",
    "y, tX, ids = load_csv_data(DATA_TRAIN_PATH)"
   ],
   "outputs": [],
   "metadata": {}
  },
  {
   "cell_type": "code",
   "execution_count": 141,
   "source": [
    "#clean data\n",
    "tX = undefined_to_nans(tX)\n",
    "tX = nans_to_means(tX)\n",
    "tX = remove_zscore_outliers(tX)\n",
    "tX, y = remove_outliers(tX, y)\n",
    "print(tX.shape, y.shape)"
   ],
   "outputs": [
    {
     "output_type": "stream",
     "name": "stdout",
     "text": [
      "(210385, 30) (210385,)\n"
     ]
    }
   ],
   "metadata": {}
  },
  {
   "cell_type": "code",
   "execution_count": 142,
   "source": [
    "initial_w = np.zeros(30)\n",
    "gamma = 0.01\n",
    "max_iters = 10\n",
    "batch_size = 10000\n",
    "ratio = 0.8\n",
    "a = np.array([1,2])\n",
    "b=np.array([1,2])\n",
    "y[y == -1] = 0"
   ],
   "outputs": [],
   "metadata": {}
  },
  {
   "cell_type": "code",
   "execution_count": 124,
   "source": [
    "w , loss = logistic_regression_newton_method(y, tX, initial_w, max_iters,batch_size, ratio, gamma)"
   ],
   "outputs": [
    {
     "output_type": "stream",
     "name": "stdout",
     "text": [
      "epoch: 0, train_loss: 69899.28268174591, test_loss: 17642.53003169339, test accuracy: 0.7576348123678018\n",
      "epoch: 1, train_loss: 62988.74485332274, test_loss: 15985.038559931221, test accuracy: 0.7580625995199277\n",
      "epoch: 2, train_loss: 57671.44213724185, test_loss: 14701.253058166643, test accuracy: 0.7585854504836371\n",
      "epoch: 3, train_loss: 53513.969773137054, test_loss: 13687.193983300122, test accuracy: 0.759013237635763\n",
      "epoch: 4, train_loss: 50198.34868901414, test_loss: 12876.903640176604, test accuracy: 0.7593221950234095\n",
      "epoch: 5, train_loss: 47537.44918658498, test_loss: 12222.726314088406, test accuracy: 0.7600114076573901\n",
      "epoch: 6, train_loss: 45380.610921923624, test_loss: 11690.842111924012, test accuracy: 0.7599638757515983\n",
      "epoch: 7, train_loss: 43625.587771326835, test_loss: 11257.738476562794, test accuracy: 0.7599638757515983\n",
      "epoch: 8, train_loss: 42187.48173073063, test_loss: 10902.707284526805, test accuracy: 0.7603203650450365\n",
      "epoch: 9, train_loss: 41010.86281289771, test_loss: 10611.190484234821, test accuracy: 0.760629322432683\n"
     ]
    }
   ],
   "metadata": {}
  },
  {
   "cell_type": "code",
   "execution_count": 130,
   "source": [
    "OUTPUT_PATH = 'data/test.csv' \n",
    "_, tX_test, ids_test = load_csv_data(OUTPUT_PATH)\n",
    "y_test = predict_logistic_labels(w, tX_test)\n",
    "y_test = y_test * 2 - 1\n",
    "\n",
    "create_csv_submission(ids_test, y_test, 'bkm.csv')\n"
   ],
   "outputs": [],
   "metadata": {}
  },
  {
   "cell_type": "code",
   "execution_count": 143,
   "source": [
    "compute_cross_entropy_loss(y,tX, w)"
   ],
   "outputs": [
    {
     "output_type": "execute_result",
     "data": {
      "text/plain": [
       "53153.352313230556"
      ]
     },
     "metadata": {},
     "execution_count": 143
    }
   ],
   "metadata": {}
  },
  {
   "cell_type": "code",
   "execution_count": null,
   "source": [],
   "outputs": [],
   "metadata": {}
  }
 ],
 "metadata": {
  "orig_nbformat": 4,
  "language_info": {
   "name": "python",
   "version": "3.8.10",
   "mimetype": "text/x-python",
   "codemirror_mode": {
    "name": "ipython",
    "version": 3
   },
   "pygments_lexer": "ipython3",
   "nbconvert_exporter": "python",
   "file_extension": ".py"
  },
  "kernelspec": {
   "name": "python3",
   "display_name": "Python 3.8.10 64-bit"
  },
  "interpreter": {
   "hash": "916dbcbb3f70747c44a77c7bcd40155683ae19c65e1c03b4aa3499c5328201f1"
  }
 },
 "nbformat": 4,
 "nbformat_minor": 2
}