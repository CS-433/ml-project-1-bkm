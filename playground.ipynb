{
 "cells": [
  {
   "cell_type": "code",
   "execution_count": 2,
   "source": [
    "from implementations import *\n",
    "from data_cleanup import *\n",
    "from functools import partial\n",
    "np.warnings.filterwarnings('ignore')\n",
    "%load_ext autoreload\n",
    "%autoreload 2"
   ],
   "outputs": [],
   "metadata": {}
  },
  {
   "cell_type": "code",
   "execution_count": 54,
   "source": [
    "DATA_TRAIN_PATH = 'data/train.csv' \n",
    "y, tX, ids = load_csv_data(DATA_TRAIN_PATH)"
   ],
   "outputs": [],
   "metadata": {}
  },
  {
   "cell_type": "markdown",
   "source": [
    "Test data cleaning functions"
   ],
   "metadata": {}
  },
  {
   "cell_type": "code",
   "execution_count": 55,
   "source": [
    "tX = undefined_to_nans(tX)\n",
    "tX = nans_to_means(tX)\n",
    "tX = remove_zscore_outliers(tX)\n",
    "tX, y = remove_nans(tX, y)\n",
    "y[y == -1] = 0\n",
    "print(tX.shape, y.shape)"
   ],
   "outputs": [
    {
     "output_type": "stream",
     "name": "stdout",
     "text": [
      "(210385, 30) (210385,)\n"
     ]
    }
   ],
   "metadata": {}
  },
  {
   "cell_type": "code",
   "execution_count": 5,
   "source": [
    "initial_w = np.zeros(30)\n",
    "gamma = 0.01\n",
    "max_iters = 10\n",
    "batch_size = 10000\n",
    "ratio = 0.8"
   ],
   "outputs": [],
   "metadata": {}
  },
  {
   "cell_type": "markdown",
   "source": [
    "Test logistic regression using Newton method"
   ],
   "metadata": {}
  },
  {
   "cell_type": "code",
   "execution_count": 27,
   "source": [
    "w , loss = logistic_regression_newton_method(y, tX, initial_w, max_iters,batch_size, ratio, gamma)"
   ],
   "outputs": [
    {
     "output_type": "stream",
     "name": "stdout",
     "text": [
      "epoch: 0, train_loss: 78130.99788099548, test_loss: 20120.34454764845, test accuracy: 0.7398\n",
      "epoch: 1, train_loss: 70202.42585771729, test_loss: 18234.339692503512, test accuracy: 0.73994\n",
      "epoch: 2, train_loss: 64308.72898050649, test_loss: 16820.910053378484, test accuracy: 0.7402\n",
      "epoch: 3, train_loss: 59853.98692328149, test_loss: 15739.335999859992, test accuracy: 0.74048\n",
      "epoch: 4, train_loss: 56399.15235379851, test_loss: 14900.524733654807, test accuracy: 0.7404999999999999\n",
      "epoch: 5, train_loss: 53715.799202397204, test_loss: 14244.625281790366, test accuracy: 0.7408600000000001\n",
      "epoch: 6, train_loss: 51617.111259586876, test_loss: 13727.123038232334, test accuracy: 0.74114\n",
      "epoch: 7, train_loss: 49944.90255395859, test_loss: 13318.37084489838, test accuracy: 0.74144\n",
      "epoch: 8, train_loss: 48614.55956960761, test_loss: 12994.930274724416, test accuracy: 0.74124\n",
      "epoch: 9, train_loss: 47567.90546295885, test_loss: 12737.76382052801, test accuracy: 0.74146\n"
     ]
    }
   ],
   "metadata": {}
  },
  {
   "cell_type": "code",
   "execution_count": 4,
   "source": [
    "dummy_x = np.random.rand(100,3)\n",
    "dummy_y = np.random.randint(2, size=100)\n",
    "dummy_w = np.random.rand(3)"
   ],
   "outputs": [],
   "metadata": {}
  },
  {
   "cell_type": "markdown",
   "source": [
    "Test cross validation"
   ],
   "metadata": {}
  },
  {
   "cell_type": "code",
   "execution_count": 6,
   "source": [
    "model = partial(logistic_regression_newton_method, initial_w = dummy_w, max_iters = 1, batch_size = 3, ratio = 1, gamma = gamma)\n",
    "loss = compute_cross_entropy_loss\n",
    "cross_validation_score(model, dummy_x , dummy_y, loss, cv=10, seed=1)\n"
   ],
   "outputs": [
    {
     "output_type": "execute_result",
     "data": {
      "text/plain": [
       "(array([44.24772374, 38.23948318, 63.9058497 , 31.15436397, 60.6757757 ,\n",
       "        53.75348344,         nan, 59.44028758, 63.53367256, 56.83503098]),\n",
       " array([3.50869022, 5.44816691, 9.19948827, 2.71733991, 4.85471977,\n",
       "        9.42375412,        nan, 9.49667408, 6.88554625, 5.8570778 ]))"
      ]
     },
     "metadata": {},
     "execution_count": 6
    }
   ],
   "metadata": {}
  },
  {
   "cell_type": "code",
   "execution_count": 11,
   "source": [
    "cross_validation_score(least_squares, dummy_x , dummy_y, compute_mse, cv=10, seed=1)"
   ],
   "outputs": [
    {
     "output_type": "execute_result",
     "data": {
      "text/plain": [
       "(array([0.28125694, 0.28942513, 0.29592614, 0.28621503, 0.28843707,\n",
       "        0.30239561, 0.29338572, 0.29206854, 0.29401024, 0.29305165]),\n",
       " array([0.19877304, 0.16276634, 0.13168506, 0.17640766, 0.17777163,\n",
       "        0.10731871, 0.14318173, 0.15490656, 0.14091203, 0.15884048]))"
      ]
     },
     "metadata": {},
     "execution_count": 11
    }
   ],
   "metadata": {}
  },
  {
   "cell_type": "markdown",
   "source": [
    "testing least square and ridge"
   ],
   "metadata": {}
  },
  {
   "cell_type": "code",
   "execution_count": 9,
   "source": [
    "ridge_regression(dummy_y, dummy_x, 0.5)\n",
    "least_squares(dummy_y, dummy_x)"
   ],
   "outputs": [
    {
     "output_type": "execute_result",
     "data": {
      "text/plain": [
       "(array([0.28911307, 0.28053288, 0.22584739]), 0.29255096686754833)"
      ]
     },
     "metadata": {},
     "execution_count": 9
    }
   ],
   "metadata": {}
  },
  {
   "cell_type": "markdown",
   "source": [
    "Create submission"
   ],
   "metadata": {}
  },
  {
   "cell_type": "code",
   "execution_count": 130,
   "source": [
    "OUTPUT_PATH = 'data/test.csv' \n",
    "_, tX_test, ids_test = load_csv_data(OUTPUT_PATH)\n",
    "y_test = predict_logistic_labels(w, tX_test)\n",
    "y_test = y_test * 2 - 1\n",
    "\n",
    "create_csv_submission(ids_test, y_test, 'bkm.csv')\n"
   ],
   "outputs": [],
   "metadata": {}
  }
 ],
 "metadata": {
  "orig_nbformat": 4,
  "language_info": {
   "name": "python",
   "version": "3.8.10",
   "mimetype": "text/x-python",
   "codemirror_mode": {
    "name": "ipython",
    "version": 3
   },
   "pygments_lexer": "ipython3",
   "nbconvert_exporter": "python",
   "file_extension": ".py"
  },
  "kernelspec": {
   "name": "python3",
   "display_name": "Python 3.8.10 64-bit"
  },
  "interpreter": {
   "hash": "916dbcbb3f70747c44a77c7bcd40155683ae19c65e1c03b4aa3499c5328201f1"
  }
 },
 "nbformat": 4,
 "nbformat_minor": 2
}