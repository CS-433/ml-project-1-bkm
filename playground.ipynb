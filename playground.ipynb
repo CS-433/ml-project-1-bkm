{
 "cells": [
  {
   "cell_type": "code",
   "execution_count": 2,
   "source": [
    "from implementations import *\n",
    "from proj1_helpers import *\n",
    "from data_cleanup import *\n",
    "np.warnings.filterwarnings('ignore')\n",
    "%load_ext autoreload\n",
    "%autoreload 2"
   ],
   "outputs": [],
   "metadata": {}
  },
  {
   "cell_type": "code",
   "execution_count": 23,
   "source": [
    "DATA_TRAIN_PATH = 'data/train.csv' \n",
    "y, tX, ids = load_csv_data(DATA_TRAIN_PATH)"
   ],
   "outputs": [],
   "metadata": {}
  },
  {
   "cell_type": "code",
   "execution_count": 24,
   "source": [
    "def remowe_nans(tX, y):\n",
    "    ind = ~np.isnan(tX).any(axis=1)\n",
    "    return tX[ind], y[ind]"
   ],
   "outputs": [],
   "metadata": {}
  },
  {
   "cell_type": "code",
   "execution_count": 25,
   "source": [
    "#clean data\n",
    "tX = undefined_to_nans(tX)\n",
    "tX = remove_zscore_outliers(tX)\n",
    "tX = nans_to_means(tX)\n",
    "y[y == -1] = 0\n",
    "print(tX.shape, y.shape)"
   ],
   "outputs": [
    {
     "output_type": "stream",
     "name": "stdout",
     "text": [
      "(250000, 30) (250000,)\n"
     ]
    }
   ],
   "metadata": {}
  },
  {
   "cell_type": "code",
   "execution_count": 26,
   "source": [
    "initial_w = np.zeros(30)\n",
    "gamma = 0.01\n",
    "max_iters = 10\n",
    "batch_size = 10000\n",
    "ratio = 0.8"
   ],
   "outputs": [],
   "metadata": {}
  },
  {
   "cell_type": "code",
   "execution_count": 27,
   "source": [
    "w , loss = logistic_regression_newton_method(y, tX, initial_w, max_iters,batch_size, ratio, gamma)"
   ],
   "outputs": [
    {
     "output_type": "stream",
     "name": "stdout",
     "text": [
      "epoch: 0, train_loss: 78130.99788099548, test_loss: 20120.34454764845, test accuracy: 0.7398\n",
      "epoch: 1, train_loss: 70202.42585771729, test_loss: 18234.339692503512, test accuracy: 0.73994\n",
      "epoch: 2, train_loss: 64308.72898050649, test_loss: 16820.910053378484, test accuracy: 0.7402\n",
      "epoch: 3, train_loss: 59853.98692328149, test_loss: 15739.335999859992, test accuracy: 0.74048\n",
      "epoch: 4, train_loss: 56399.15235379851, test_loss: 14900.524733654807, test accuracy: 0.7404999999999999\n",
      "epoch: 5, train_loss: 53715.799202397204, test_loss: 14244.625281790366, test accuracy: 0.7408600000000001\n",
      "epoch: 6, train_loss: 51617.111259586876, test_loss: 13727.123038232334, test accuracy: 0.74114\n",
      "epoch: 7, train_loss: 49944.90255395859, test_loss: 13318.37084489838, test accuracy: 0.74144\n",
      "epoch: 8, train_loss: 48614.55956960761, test_loss: 12994.930274724416, test accuracy: 0.74124\n",
      "epoch: 9, train_loss: 47567.90546295885, test_loss: 12737.76382052801, test accuracy: 0.74146\n"
     ]
    }
   ],
   "metadata": {}
  },
  {
   "cell_type": "code",
   "execution_count": 130,
   "source": [
    "OUTPUT_PATH = 'data/test.csv' \n",
    "_, tX_test, ids_test = load_csv_data(OUTPUT_PATH)\n",
    "y_test = predict_logistic_labels(w, tX_test)\n",
    "y_test = y_test * 2 - 1\n",
    "\n",
    "create_csv_submission(ids_test, y_test, 'bkm.csv')\n"
   ],
   "outputs": [],
   "metadata": {}
  }
 ],
 "metadata": {
  "orig_nbformat": 4,
  "language_info": {
   "name": "python",
   "version": "3.8.10",
   "mimetype": "text/x-python",
   "codemirror_mode": {
    "name": "ipython",
    "version": 3
   },
   "pygments_lexer": "ipython3",
   "nbconvert_exporter": "python",
   "file_extension": ".py"
  },
  "kernelspec": {
   "name": "python3",
   "display_name": "Python 3.8.10 64-bit"
  },
  "interpreter": {
   "hash": "916dbcbb3f70747c44a77c7bcd40155683ae19c65e1c03b4aa3499c5328201f1"
  }
 },
 "nbformat": 4,
 "nbformat_minor": 2
}